{
  "nbformat": 4,
  "nbformat_minor": 0,
  "metadata": {
    "colab": {
      "name": "0523.ipynb",
      "provenance": [],
      "authorship_tag": "ABX9TyMLJpm0oqFc2HoRPTWQxTG5",
      "include_colab_link": true
    },
    "kernelspec": {
      "name": "python3",
      "display_name": "Python 3"
    },
    "language_info": {
      "name": "python"
    }
  },
  "cells": [
    {
      "cell_type": "markdown",
      "metadata": {
        "id": "view-in-github",
        "colab_type": "text"
      },
      "source": [
        "<a href=\"https://colab.research.google.com/github/Pingberry/Introduction-to-Computers-/blob/main/0523.ipynb\" target=\"_parent\"><img src=\"https://colab.research.google.com/assets/colab-badge.svg\" alt=\"Open In Colab\"/></a>"
      ]
    },
    {
      "cell_type": "code",
      "source": [
        "abc=int(input(\"請輸入一個正整數:\"))\n",
        "sum=0\n",
        "for o in range(1, abc+1):\n",
        "  sum =sum+o\n",
        "print(f\"1到 {o} 的整數和為 {sum}\")"
      ],
      "metadata": {
        "colab": {
          "base_uri": "https://localhost:8080/"
        },
        "id": "W1q35cPMR5U_",
        "outputId": "c1100604-f2f3-4fdc-87b4-7a2cd4b82798"
      },
      "execution_count": null,
      "outputs": [
        {
          "output_type": "stream",
          "name": "stdout",
          "text": [
            "請輸入一個正整數:10\n",
            "1到 10 的整數和為 55\n"
          ]
        }
      ]
    },
    {
      "cell_type": "code",
      "source": [
        "de=int(input(\"請輸入一個正整數:\"))\n",
        "sum=0\n",
        "for p in range(1,de+1):\n",
        "  sum =sum+p\n",
        "  print(f\"1到{p}的整數和為: {sum}\")"
      ],
      "metadata": {
        "colab": {
          "base_uri": "https://localhost:8080/"
        },
        "id": "qUXBPhiRWUzN",
        "outputId": "2ef44334-446b-4e5d-85b7-23f71d5a50dc"
      },
      "execution_count": null,
      "outputs": [
        {
          "output_type": "stream",
          "name": "stdout",
          "text": [
            "請輸入一個正整數:10\n",
            "1到1的整數和為: 1\n",
            "1到2的整數和為: 3\n",
            "1到3的整數和為: 6\n",
            "1到4的整數和為: 10\n",
            "1到5的整數和為: 15\n",
            "1到6的整數和為: 21\n",
            "1到7的整數和為: 28\n",
            "1到8的整數和為: 36\n",
            "1到9的整數和為: 45\n",
            "1到10的整數和為: 55\n"
          ]
        }
      ]
    },
    {
      "cell_type": "code",
      "source": [
        "for j in range (1,5+1):\n",
        "    print (j)\n",
        "    for i in range (1,3):\n",
        "        k=i*j\n",
        "        print(j,\"*\",i,\"=\",k)"
      ],
      "metadata": {
        "id": "6S5Y2sGdBIPr",
        "colab": {
          "base_uri": "https://localhost:8080/"
        },
        "outputId": "73473f89-1650-4b6d-ecb7-c783983a81e6"
      },
      "execution_count": null,
      "outputs": [
        {
          "output_type": "stream",
          "name": "stdout",
          "text": [
            "1\n",
            "1 * 1 = 1\n",
            "1 * 2 = 2\n",
            "2\n",
            "2 * 1 = 2\n",
            "2 * 2 = 4\n",
            "3\n",
            "3 * 1 = 3\n",
            "3 * 2 = 6\n",
            "4\n",
            "4 * 1 = 4\n",
            "4 * 2 = 8\n",
            "5\n",
            "5 * 1 = 5\n",
            "5 * 2 = 10\n"
          ]
        }
      ]
    },
    {
      "cell_type": "code",
      "source": [
        "for i in range(1, 5):\n",
        "    if(i==4):\n",
        "        break\n",
        "    print(i, end= \" \")"
      ],
      "metadata": {
        "colab": {
          "base_uri": "https://localhost:8080/"
        },
        "id": "zp20vDLiEb9K",
        "outputId": "2e8d630e-ebee-4dc5-f05f-8607fabb91df"
      },
      "execution_count": null,
      "outputs": [
        {
          "output_type": "stream",
          "name": "stdout",
          "text": [
            "1 2 3 "
          ]
        }
      ]
    },
    {
      "cell_type": "code",
      "source": [
        "for i in range(1, 5):\n",
        "    if(i==4):\n",
        "        continue\n",
        "    print(i, end= \" \")"
      ],
      "metadata": {
        "colab": {
          "base_uri": "https://localhost:8080/"
        },
        "outputId": "d20dbd34-c113-45db-b769-dd328720c7b9",
        "id": "1Sclg5KSFdcb"
      },
      "execution_count": null,
      "outputs": [
        {
          "output_type": "stream",
          "name": "stdout",
          "text": [
            "1 2 3 "
          ]
        }
      ]
    },
    {
      "cell_type": "code",
      "source": [
        "count = 0\n",
        "for string in '測試看看!':\n",
        "    count+=1\n",
        "    if string == '看':\n",
        "        break\n",
        "    print(string)\n",
        "\n",
        "print('迴圈結束')\n",
        "print('迴圈執行了 %d 次' %count)"
      ],
      "metadata": {
        "colab": {
          "base_uri": "https://localhost:8080/"
        },
        "id": "NqZ4iotRFdGT",
        "outputId": "39f44bc7-9fb1-4e56-b97f-97db138f2290"
      },
      "execution_count": null,
      "outputs": [
        {
          "output_type": "stream",
          "name": "stdout",
          "text": [
            "測\n",
            "試\n",
            "迴圈結束\n",
            "迴圈執行了 3 次\n"
          ]
        }
      ]
    },
    {
      "cell_type": "code",
      "source": [
        "count = 0\n",
        "for string in 'HAPPY!':\n",
        "    count+=1\n",
        "    if string == 'P':\n",
        "        break\n",
        "    print(string)\n",
        "\n",
        "print('迴圈結束')\n",
        "print('迴圈執行了 %d 次' %count)"
      ],
      "metadata": {
        "colab": {
          "base_uri": "https://localhost:8080/"
        },
        "outputId": "bca2ccba-27c6-4bbb-c862-62b2cb7b683f",
        "id": "xePNy6SVHjjo"
      },
      "execution_count": null,
      "outputs": [
        {
          "output_type": "stream",
          "name": "stdout",
          "text": [
            "H\n",
            "A\n",
            "迴圈結束\n",
            "迴圈執行了 3 次\n"
          ]
        }
      ]
    },
    {
      "cell_type": "code",
      "source": [
        "for i in range(2,10):\n",
        "    for j in range(1,10):\n",
        "        print(f'{i}*{j}= {i*j}', end='\\t')\n",
        "    print()"
      ],
      "metadata": {
        "colab": {
          "base_uri": "https://localhost:8080/"
        },
        "id": "YaLrFI5fdP9B",
        "outputId": "5e78f465-1085-48c8-fc10-42833d6793ef"
      },
      "execution_count": 9,
      "outputs": [
        {
          "output_type": "stream",
          "name": "stdout",
          "text": [
            "2*1= 2\t2*2= 4\t2*3= 6\t2*4= 8\t2*5= 10\t2*6= 12\t2*7= 14\t2*8= 16\t2*9= 18\t\n",
            "3*1= 3\t3*2= 6\t3*3= 9\t3*4= 12\t3*5= 15\t3*6= 18\t3*7= 21\t3*8= 24\t3*9= 27\t\n",
            "4*1= 4\t4*2= 8\t4*3= 12\t4*4= 16\t4*5= 20\t4*6= 24\t4*7= 28\t4*8= 32\t4*9= 36\t\n",
            "5*1= 5\t5*2= 10\t5*3= 15\t5*4= 20\t5*5= 25\t5*6= 30\t5*7= 35\t5*8= 40\t5*9= 45\t\n",
            "6*1= 6\t6*2= 12\t6*3= 18\t6*4= 24\t6*5= 30\t6*6= 36\t6*7= 42\t6*8= 48\t6*9= 54\t\n",
            "7*1= 7\t7*2= 14\t7*3= 21\t7*4= 28\t7*5= 35\t7*6= 42\t7*7= 49\t7*8= 56\t7*9= 63\t\n",
            "8*1= 8\t8*2= 16\t8*3= 24\t8*4= 32\t8*5= 40\t8*6= 48\t8*7= 56\t8*8= 64\t8*9= 72\t\n",
            "9*1= 9\t9*2= 18\t9*3= 27\t9*4= 36\t9*5= 45\t9*6= 54\t9*7= 63\t9*8= 72\t9*9= 81\t\n"
          ]
        }
      ]
    },
    {
      "cell_type": "code",
      "source": [
        "a = int(input('請輸入a的值:'))\n",
        "b = int(input('請輸入b的值:'))\n",
        "for c in range(a, a*b+1):  \n",
        "    if(c % a == 0 and c % b == 0):\n",
        "        break\n",
        "print(f'{a}和{b}的最小公倍數={c}')       "
      ],
      "metadata": {
        "colab": {
          "base_uri": "https://localhost:8080/"
        },
        "id": "MUCZFtFPHh1Z",
        "outputId": "722739de-696f-458d-d596-147e9719ee1c"
      },
      "execution_count": 1,
      "outputs": [
        {
          "output_type": "stream",
          "name": "stdout",
          "text": [
            "請輸入a的值:9\n",
            "請輸入b的值:15\n",
            "9和15的最小公倍數=45\n"
          ]
        }
      ]
    },
    {
      "cell_type": "code",
      "source": [
        "m = int(input('請輪入正整數:'))\n",
        "for n in range (1, m+1):\n",
        "    if n % 5 == 0:\n",
        "        continue\n",
        "    print(n, end=' ')"
      ],
      "metadata": {
        "id": "m2rS6XBqXZEF",
        "colab": {
          "base_uri": "https://localhost:8080/"
        },
        "outputId": "431229a7-7c08-4e3d-9044-d099dec1ac14"
      },
      "execution_count": 4,
      "outputs": [
        {
          "output_type": "stream",
          "name": "stdout",
          "text": [
            "請輪入正整數:21\n",
            "1 2 3 4 6 7 8 9 11 12 13 14 16 17 18 19 21 "
          ]
        }
      ]
    }
  ]
}