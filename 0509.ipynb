{
  "nbformat": 4,
  "nbformat_minor": 0,
  "metadata": {
    "colab": {
      "name": "0509.ipynb",
      "provenance": [],
      "authorship_tag": "ABX9TyMnvbavvgzuIrPYygktA82l",
      "include_colab_link": true
    },
    "kernelspec": {
      "name": "python3",
      "display_name": "Python 3"
    },
    "language_info": {
      "name": "python"
    }
  },
  "cells": [
    {
      "cell_type": "markdown",
      "metadata": {
        "id": "view-in-github",
        "colab_type": "text"
      },
      "source": [
        "<a href=\"https://colab.research.google.com/github/Pingberry/Introduction-to-Computers-/blob/main/0509.ipynb\" target=\"_parent\"><img src=\"https://colab.research.google.com/assets/colab-badge.svg\" alt=\"Open In Colab\"/></a>"
      ]
    },
    {
      "cell_type": "code",
      "execution_count": null,
      "metadata": {
        "colab": {
          "base_uri": "https://localhost:8080/"
        },
        "id": "_Oifo6my8b8l",
        "outputId": "fceb9d27-3ac8-4f83-da6d-721c5626e936"
      },
      "outputs": [
        {
          "output_type": "stream",
          "name": "stdout",
          "text": [
            "請輸入你的體溫33.9\n",
            "體溫異常，請重新量測！\n"
          ]
        }
      ],
      "source": [
        "temp= float(input(\"請輸入你的體溫\"))\n",
        "if temp>= 37.5:\n",
        "  print(\"體溫過高！\")\n",
        "elif temp >= 37 and temp < 37.4:\n",
        "  print(\"體溫略高！\")\n",
        "elif temp >= 34 and temp <= 36.9:\n",
        "  print(\"體溫正常！\")\n",
        "else:\n",
        "  print(\"體溫異常，請重新量測！\")"
      ]
    },
    {
      "cell_type": "code",
      "source": [
        "score = input(\"請輸入你的成績\")\n",
        "if (int(score) >= 90):\n",
        "  print(\"A\")\n",
        "elif (int(score) >= 80):\n",
        "  print(\"B\")\n",
        "elif (int(score) >= 70):\n",
        "  print(\"C\")\n",
        "elif (int(score) >= 60):\n",
        "  print(\"D\")\n",
        "else:\n",
        "  print (\"E\")"
      ],
      "metadata": {
        "colab": {
          "base_uri": "https://localhost:8080/"
        },
        "id": "AXQWd-Fv_fkA",
        "outputId": "41ade707-3287-42c8-838f-da1cc9a66ecf"
      },
      "execution_count": null,
      "outputs": [
        {
          "output_type": "stream",
          "name": "stdout",
          "text": [
            "請輸入你的成績59\n",
            "E\n"
          ]
        }
      ]
    },
    {
      "cell_type": "code",
      "source": [
        "money = int(input(\"請輸入購物金額: \"))\n",
        "if (money >= 10000):\n",
        "  if (money >= 100000):\n",
        "    print(\"八折\", money *0.8, end = \" 元\\n\")\n",
        "  elif (money >= 50000):\n",
        "    print(\"八五折\", money *0.85, end = \" 元\\n\")\n",
        "  elif (money >= 30000) :\n",
        "    print(\"九折\", money *0.9, end = \" 元\\n\")\n",
        "  else:\n",
        "    print (\"九五折\", money *0.95, end = \" 元\\n\")\n",
        "else:\n",
        "  print(\"沒打折\", money, end = \" 元\\n\")"
      ],
      "metadata": {
        "colab": {
          "base_uri": "https://localhost:8080/"
        },
        "id": "g101dPGFBFqt",
        "outputId": "918d434a-e4ee-48da-caeb-88193bae9006"
      },
      "execution_count": null,
      "outputs": [
        {
          "output_type": "stream",
          "name": "stdout",
          "text": [
            "請輸入購物金額: 50000\n",
            "八五折 42500.0 元\n"
          ]
        }
      ]
    },
    {
      "cell_type": "code",
      "source": [
        "month = int(input(\"請輸入月份\"))\n",
        "if month >= 3 and month <= 5:\n",
        "  print(month, \"月是春天！\")\n",
        "elif month >= 6 and month <= 8:\n",
        "  print(month, \"月是夏天！\")\n",
        "elif month >= 9 and month <= 11:\n",
        "  print(month, \"月是秋天！\")\n",
        "elif month == 12 or month == 1 or month == 2:\n",
        "  print(month, \"月是冬天！\")\n",
        "else:\n",
        "  print(\"月份不在範圍內！\")"
      ],
      "metadata": {
        "colab": {
          "base_uri": "https://localhost:8080/"
        },
        "id": "mlOBmoV4Krts",
        "outputId": "537451a6-0135-4c9e-ef4c-41f0faa3a4c2"
      },
      "execution_count": null,
      "outputs": [
        {
          "output_type": "stream",
          "name": "stdout",
          "text": [
            "請輸入月份5\n",
            "5 月是春天！\n"
          ]
        }
      ]
    },
    {
      "cell_type": "code",
      "source": [
        "revenue = int(input(\"請輸入今年收入淨額:\"))\n",
        "if revenue >= 2000000:\n",
        "  print(\"付稅金額:\", revenue *0.3, \"元\")\n",
        "elif revenue >= 1000000:\n",
        "  print(\"付稅金額:\", revenue *0.21, \"元\")\n",
        "elif revenue >= 600000:\n",
        "  print(\"付稅金額:\", revenue *0.13, \"元\")\n",
        "elif revenue >= 300000:\n",
        "  print(\"付稅金額:\", revenue *0.06, \"元\")\n",
        "else:\n",
        "  print(\"付稅金額: 0 元\")"
      ],
      "metadata": {
        "id": "E8L_Qcq1NRWj",
        "colab": {
          "base_uri": "https://localhost:8080/"
        },
        "outputId": "8e5692f4-c2dd-4968-c56c-674ddba3537a"
      },
      "execution_count": 7,
      "outputs": [
        {
          "output_type": "stream",
          "name": "stdout",
          "text": [
            "請輸入今年收入淨額:2000000\n",
            "付稅金額: 600000.0 元\n"
          ]
        }
      ]
    }
  ]
}